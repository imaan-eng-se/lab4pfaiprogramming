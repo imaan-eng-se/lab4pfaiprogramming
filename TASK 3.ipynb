{
 "cells": [
  {
   "cell_type": "code",
   "execution_count": 2,
   "id": "d6d42e57-5bcf-40c7-8f03-78325ab47dea",
   "metadata": {},
   "outputs": [
    {
     "name": "stderr",
     "output_type": "stream",
     "text": [
      "Installing package into 'C:/Users/beba2/AppData/Local/R/win-library/4.4'\n",
      "(as 'lib' is unspecified)\n",
      "\n",
      "also installing the dependencies 'rematch', 'backports', 'blob', 'DBI', 'gargle', 'cellranger', 'ids', 'rematch2', 'systemfonts', 'textshaping', 'broom', 'conflicted', 'dbplyr', 'dtplyr', 'googledrive', 'googlesheets4', 'modelr', 'ragg', 'readxl', 'reprex'\n",
      "\n",
      "\n"
     ]
    },
    {
     "name": "stdout",
     "output_type": "stream",
     "text": [
      "package 'rematch' successfully unpacked and MD5 sums checked\n",
      "package 'backports' successfully unpacked and MD5 sums checked\n",
      "package 'blob' successfully unpacked and MD5 sums checked\n",
      "package 'DBI' successfully unpacked and MD5 sums checked\n",
      "package 'gargle' successfully unpacked and MD5 sums checked\n",
      "package 'cellranger' successfully unpacked and MD5 sums checked\n",
      "package 'ids' successfully unpacked and MD5 sums checked\n",
      "package 'rematch2' successfully unpacked and MD5 sums checked\n",
      "package 'systemfonts' successfully unpacked and MD5 sums checked\n",
      "package 'textshaping' successfully unpacked and MD5 sums checked\n",
      "package 'broom' successfully unpacked and MD5 sums checked\n",
      "package 'conflicted' successfully unpacked and MD5 sums checked\n",
      "package 'dbplyr' successfully unpacked and MD5 sums checked\n",
      "package 'dtplyr' successfully unpacked and MD5 sums checked\n",
      "package 'googledrive' successfully unpacked and MD5 sums checked\n",
      "package 'googlesheets4' successfully unpacked and MD5 sums checked\n",
      "package 'modelr' successfully unpacked and MD5 sums checked\n",
      "package 'ragg' successfully unpacked and MD5 sums checked\n",
      "package 'readxl' successfully unpacked and MD5 sums checked\n",
      "package 'reprex' successfully unpacked and MD5 sums checked\n",
      "package 'tidyverse' successfully unpacked and MD5 sums checked\n",
      "\n",
      "The downloaded binary packages are in\n",
      "\tC:\\Users\\beba2\\AppData\\Local\\Temp\\RtmpiQOquT\\downloaded_packages\n"
     ]
    }
   ],
   "source": [
    "install.packages(\"tidyverse\", repos = \"http://cran.rstudio.com/\")\n"
   ]
  },
  {
   "cell_type": "code",
   "execution_count": 13,
   "id": "98d3c802-38b3-4d21-8deb-c0512b0f8908",
   "metadata": {},
   "outputs": [],
   "source": [
    "library(tidyverse)"
   ]
  },
  {
   "cell_type": "code",
   "execution_count": 14,
   "id": "99d5fe89-cde3-46be-a791-d1da19af4082",
   "metadata": {},
   "outputs": [],
   "source": [
    "df <- read.csv(\"online_retail.csv\", stringsAsFactors = FALSE)"
   ]
  },
  {
   "cell_type": "code",
   "execution_count": 17,
   "id": "06ea3995-e789-4821-9662-89c2b6be6d0b",
   "metadata": {},
   "outputs": [],
   "source": [
    "df_clean <- df %>% filter(!is.na(Customer.ID))"
   ]
  },
  {
   "cell_type": "code",
   "execution_count": 19,
   "id": "f66dc467-f7e3-480d-b6b7-e2b142df5fe0",
   "metadata": {},
   "outputs": [],
   "source": [
    "df_clean$UnitPrice[is.na(df_clean$UnitPrice)] <- median(df_clean$UnitPrice, na.rm = TRUE)"
   ]
  },
  {
   "cell_type": "code",
   "execution_count": 20,
   "id": "ae60e05c-9ff9-4f6d-8dcd-36c7b497bfa1",
   "metadata": {},
   "outputs": [],
   "source": [
    "df_clean$Quantity[is.na(df_clean$Quantity)] <- median(df_clean$Quantity, na.rm = TRUE)\n"
   ]
  },
  {
   "cell_type": "code",
   "execution_count": 23,
   "id": "9a5ce797-0e64-4f38-8af4-ed8b89866570",
   "metadata": {},
   "outputs": [],
   "source": [
    "write.csv(df_clean, \"processed_online_retail.csv\", row.names = FALSE)\n"
   ]
  },
  {
   "cell_type": "code",
   "execution_count": 24,
   "id": "85126cf7-89a2-4990-a6e8-a65bbe2f3f02",
   "metadata": {},
   "outputs": [
    {
     "name": "stdout",
     "output_type": "stream",
     "text": [
      "'data.frame':\t406830 obs. of  8 variables:\n",
      " $ Invoice    : chr  \"536365\" \"536365\" \"536365\" \"536365\" ...\n",
      " $ StockCode  : chr  \"85123A\" \"71053\" \"84406B\" \"84029G\" ...\n",
      " $ Description: chr  \"WHITE HANGING HEART T-LIGHT HOLDER\" \"WHITE METAL LANTERN\" \"CREAM CUPID HEARTS COAT HANGER\" \"KNITTED UNION FLAG HOT WATER BOTTLE\" ...\n",
      " $ Quantity   : num  6 6 8 6 6 2 6 6 6 6 ...\n",
      " $ InvoiceDate: chr  \"01/12/2010 8:26\" \"01/12/2010 8:26\" \"01/12/2010 8:26\" \"01/12/2010 8:26\" ...\n",
      " $ Price      : num  2.55 3.39 2.75 3.39 3.39 7.65 4.25 1.85 1.85 4.25 ...\n",
      " $ Customer.ID: int  17850 17850 17850 17850 17850 17850 17850 17850 17850 13047 ...\n",
      " $ Country    : chr  \"United Kingdom\" \"United Kingdom\" \"United Kingdom\" \"United Kingdom\" ...\n"
     ]
    }
   ],
   "source": [
    "str(df_clean)\n"
   ]
  }
 ],
 "metadata": {
  "kernelspec": {
   "display_name": "R",
   "language": "R",
   "name": "ir"
  },
  "language_info": {
   "codemirror_mode": "r",
   "file_extension": ".r",
   "mimetype": "text/x-r-source",
   "name": "R",
   "pygments_lexer": "r",
   "version": "4.4.3"
  }
 },
 "nbformat": 4,
 "nbformat_minor": 5
}
